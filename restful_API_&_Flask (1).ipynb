{
  "nbformat": 4,
  "nbformat_minor": 0,
  "metadata": {
    "colab": {
      "provenance": []
    },
    "kernelspec": {
      "name": "python3",
      "display_name": "Python 3"
    },
    "language_info": {
      "name": "python"
    }
  },
  "cells": [
    {
      "cell_type": "markdown",
      "source": [
        "# **Restful API & Flask**"
      ],
      "metadata": {
        "id": "bd-1Qb-FThMC"
      }
    },
    {
      "cell_type": "markdown",
      "source": [
        "# **1. What is a RESTful API?**\n",
        "\n",
        "\n",
        "A RESTful API (Representational State Transfer Application Programming Interface) is a way for different software systems to communicate with each other over the internet using HTTP methods in a consistent, stateless manner."
      ],
      "metadata": {
        "id": "2mPHf2pqTqoY"
      }
    },
    {
      "cell_type": "markdown",
      "source": [
        "# **2. Explain the concept of API specification**\n",
        "\n",
        "An API specification is a detailed blueprint or contract that defines how an API should work.  \n",
        "**It tells developers:**\n",
        "\n",
        "- What endpoints exist (like /users, /orders)\n",
        "\n",
        "- What methods you can use (GET, POST, PUT, DELETE, etc.)\n",
        "\n",
        "- What data is required in a request (parameters, headers, authentication)\n",
        "\n",
        "- What responses you will get (status codes, JSON structure, errors)"
      ],
      "metadata": {
        "id": "LOBNFa0pVAem"
      }
    },
    {
      "cell_type": "markdown",
      "source": [
        "# **3.  What is Flask, and why is it popular for building APIs.**\n",
        "\n",
        "Flask is a lightweight, open-source web framework in Python.\n",
        "\n",
        "- It helps developers quickly build web applications and RESTful APIs.\n",
        "\n",
        "- It’s called a “micro-framework” because it provides only the essentials (routing, request handling, etc.) and leaves other choices (like database, authentication, etc.) to the developer.\n",
        "\n",
        "**Why is Flask Popular for Building APIs**   \n",
        "\n",
        "**1. Simplicity & Minimalism**\n",
        "\n",
        "Very easy to learn and use → perfect for beginners and small projects.  \n",
        "You can write a working API in just a few lines of code   \n",
        "**2. Flexibility**\n",
        "\n",
        "Unlike larger frameworks (e.g., Django), Flask doesn’t force a specific project structure.\n",
        "\n",
        "You choose the tools: databases (SQLAlchemy, MongoDB), authentication methods, etc.    \n",
        "**3. Great for APIs**\n",
        "\n",
        "Built-in support for routing, request handling, JSON responses.\n",
        "\n",
        "Easy to create RESTful APIs quickly.\n",
        "\n",
        "Works well with API documentation tools like Swagger (Flasgger) or Postman."
      ],
      "metadata": {
        "id": "Xo7sJsVUVnNk"
      }
    },
    {
      "cell_type": "markdown",
      "source": [
        "# **4. What is routing in Flask?**\n",
        "\n",
        "Routing in Flask means mapping a URL (path) to a specific function in your application.\n",
        "\n",
        "When a user visits a URL, Flask looks at its routing table and decides which function should handle that request.\n",
        "\n",
        "That function is called a view function, and the @app.route() decorator is used to define it."
      ],
      "metadata": {
        "id": "sXDTaV4CWzwG"
      }
    },
    {
      "cell_type": "markdown",
      "source": [
        "# **5. How do you create a simple Flask application?**\n",
        "\n",
        "Steps to create a simple Flask application:   \n",
        "**Step1**. Install flask"
      ],
      "metadata": {
        "id": "4czLQOBIXfJn"
      }
    },
    {
      "cell_type": "code",
      "source": [
        "pip install flask"
      ],
      "metadata": {
        "id": "CgwWa18yY3jv"
      },
      "execution_count": null,
      "outputs": []
    },
    {
      "cell_type": "markdown",
      "source": [
        "**Step 2**. Create a python file  "
      ],
      "metadata": {
        "id": "QPEvpds1Yeu-"
      }
    },
    {
      "cell_type": "code",
      "source": [
        "from flask import Flask\n",
        "\n",
        "# Create the Flask app instance\n",
        "app = Flask(__name__)\n",
        "\n",
        "# Define a route\n",
        "@app.route('/')\n",
        "def home():\n",
        "    return \"Hello, Flask!\"\n",
        "\n",
        "# Run the app\n",
        "if __name__ == '__main__':\n",
        "    app.run(debug=True)\n"
      ],
      "metadata": {
        "id": "liZLyf5FYxvw"
      },
      "execution_count": null,
      "outputs": []
    },
    {
      "cell_type": "markdown",
      "source": [
        "**Step 3**. Run the app"
      ],
      "metadata": {
        "id": "lGl0xpgeY9W1"
      }
    },
    {
      "cell_type": "code",
      "source": [
        "python app.py"
      ],
      "metadata": {
        "id": "oy0T5Z02ZHTf"
      },
      "execution_count": null,
      "outputs": []
    },
    {
      "cell_type": "markdown",
      "source": [
        "**Step4**.  Open in browser\n"
      ],
      "metadata": {
        "id": "q2_5tv1nZhvQ"
      }
    },
    {
      "cell_type": "code",
      "source": [
        "http://127.0.0.1:5000/ → shows Hello, Flask!"
      ],
      "metadata": {
        "id": "GMNEYtpqZq-4"
      },
      "execution_count": null,
      "outputs": []
    },
    {
      "cell_type": "markdown",
      "source": [
        "#**6. What are HTTP methods used in RESTful APIs?**\n",
        "\n",
        "In RESTful APIs, HTTP methods define the type of operation the client wants to perform on a resource (like data stored on the server). The most commonly used methods are:   \n",
        "**1. GET**\n",
        "\n",
        "- Purpose: Retrieve data from the server.\n",
        "\n",
        "- Does not modify data (read-only)."
      ],
      "metadata": {
        "id": "gOEEzo5_Z-tm"
      }
    },
    {
      "cell_type": "markdown",
      "source": [
        "**2. POST**\n",
        "\n",
        "- Purpose: Create a new resource on the server.\n",
        "\n",
        "- Data is usually sent in the request body (JSON or form data)."
      ],
      "metadata": {
        "id": "16Ki_9mFaYmf"
      }
    },
    {
      "cell_type": "markdown",
      "source": [
        "**3. PUT**\n",
        "\n",
        "- Purpose: Update/replace an existing resource completely.\n",
        "\n",
        "- If the resource doesn’t exist, it may create one (depends on implementation).\n",
        "\n",
        "**4. PATCH**\n",
        "\n",
        "- Purpose: Update/modify part of a resource.\n",
        "\n",
        "- Unlike PUT, it doesn’t replace the whole resource\n",
        "\n",
        "**5. DELETE**\n",
        "\n",
        "- Purpose: Remove a resource from the server."
      ],
      "metadata": {
        "id": "2O0yQi-Ya-Ge"
      }
    },
    {
      "cell_type": "markdown",
      "source": [
        "# **7.  What is the purpose of the @app.route() decorator in Flask?**\n",
        "\n",
        "The @app.route() decorator in Flask is used for routing.\n",
        "It maps a URL path (endpoint) to a specific function in your Flask application.\n",
        "When a user visits that URL, Flask calls the associated function (called a view function) and returns its response."
      ],
      "metadata": {
        "id": "TPKvOLctbkE0"
      }
    },
    {
      "cell_type": "code",
      "source": [
        "from flask import Flask\n",
        "app = Flask(__name__)\n",
        "\n",
        "@app.route('/')\n",
        "def home():\n",
        "    return \"Welcome to the Home Page!\"\n",
        "\n",
        "@app.route('/about')\n",
        "def about():\n",
        "    return \"This is the About Page.\""
      ],
      "metadata": {
        "id": "LxFz2x6aca-j"
      },
      "execution_count": null,
      "outputs": []
    },
    {
      "cell_type": "markdown",
      "source": [
        "# **8. What is the difference between GET and POST HTTP methods?**\n",
        "\n",
        "**GET**  \n",
        "- Purpose: Retrieve data from the server (read-only).\n",
        "- Data Location: Data is sent in the URL (query string) → e.g., /search?query=python\n",
        "- Visibility: Parameters are visible in the URL, so less secure.\n",
        "- Use Case: Fetching data (e.g., GET /users)\n",
        "\n",
        "**POST**  \n",
        "- Purpose: Send data to the server to create a new resource.\n",
        "- Data Location: Data is sent in the request body (hidden from URL).\n",
        "- Visibility: Data is not visible in the URL, safer for sensitive info (like passwords).\n",
        "- Use Case: Submitting forms, creating new records (e.g., POST /users)."
      ],
      "metadata": {
        "id": "bdeBFsCpcd7R"
      }
    },
    {
      "cell_type": "markdown",
      "source": [
        "# **9. How do you handle errors in Flask APIs?**\n",
        "\n",
        "In Flask, errors can be handled using error handlers and returning custom JSON responses instead of plain HTML error pages.\n",
        "\n",
        "**1. Using @app.errorhandler()**\n",
        "\n",
        "You can define custom responses for HTTP errors like 404 Not Found, 500 Internal Server Error, etc."
      ],
      "metadata": {
        "id": "Er5yTdcQelzS"
      }
    },
    {
      "cell_type": "code",
      "source": [
        "from flask import Flask, jsonify\n",
        "\n",
        "app = Flask(__name__)\n",
        "\n",
        "# Custom error handler for 404\n",
        "@app.errorhandler(404)\n",
        "def not_found(error):\n",
        "    return jsonify({\"error\": \"Resource not found\"}), 404\n",
        "\n",
        "# Custom error handler for 500\n",
        "@app.errorhandler(500)\n",
        "def server_error(error):\n",
        "    return jsonify({\"error\": \"Internal server error\"}), 500\n"
      ],
      "metadata": {
        "id": "MrOIMj2ifChE"
      },
      "execution_count": null,
      "outputs": []
    },
    {
      "cell_type": "markdown",
      "source": [
        "**2. Handling Errors Inside Routes (try–except)**\n",
        "\n",
        "You can also handle exceptions inside routes:"
      ],
      "metadata": {
        "id": "s4aBl-gCfD80"
      }
    },
    {
      "cell_type": "code",
      "source": [
        "@app.route('/divide/<int:a>/<int:b>')\n",
        "def divide(a, b):\n",
        "    try:\n",
        "        result = a / b\n",
        "        return jsonify({\"result\": result})\n",
        "    except ZeroDivisionError:\n",
        "        return jsonify({\"error\": \"Division by zero is not allowed\"}), 400"
      ],
      "metadata": {
        "id": "3Bc-kUisfN9G"
      },
      "execution_count": null,
      "outputs": []
    },
    {
      "cell_type": "markdown",
      "source": [
        "**3. Using abort() for Custom Errors**\n",
        "\n",
        "Flask provides the abort() function to stop a request and return an HTTP error."
      ],
      "metadata": {
        "id": "jViCloZcfRJM"
      }
    },
    {
      "cell_type": "code",
      "source": [
        "from flask import abort\n",
        "\n",
        "@app.route('/user/<int:id>')\n",
        "def get_user(id):\n",
        "    users = {1: \"Moli\", 2: \"John\"}\n",
        "    if id not in users:\n",
        "        abort(404, description=\"User not found\")\n",
        "    return jsonify({\"id\": id, \"name\": users[id]})\n"
      ],
      "metadata": {
        "id": "bJu48mv6ff2r"
      },
      "execution_count": null,
      "outputs": []
    },
    {
      "cell_type": "markdown",
      "source": [
        "# **10. How do you connect Flask to a SQL database?**\n",
        "\n",
        "There are two common ways:\n",
        "\n",
        "1. Using raw SQL with sqlite3 or mysql.connector\n",
        "\n",
        "2. Using an ORM (Object Relational Mapper) like SQLAlchemy → most popular in Flask."
      ],
      "metadata": {
        "id": "H_unJxYafufP"
      }
    },
    {
      "cell_type": "markdown",
      "source": [
        "# **11.  What is the role of Flask-SQLAlchemy?**\n",
        "\n",
        "The main roles of Flask-SQLAlchemy are:\n",
        "\n",
        "**1. Database Connection Management**\n",
        "\n",
        "Provides an easy way to connect Flask apps to different SQL databases (SQLite, MySQL, PostgreSQL, etc.).\n",
        "\n",
        "**2. ORM (Object Relational Mapping)**\n",
        "\n",
        "Converts Python classes into database tables.\n",
        "\n",
        "Each object instance represents a row in the table.\n",
        "\n",
        "**3. Simplifies Queries**\n",
        "\n",
        "Instead of writing raw SQL, you use Python methods.\n",
        "\n",
        "**4. Schema Management**\n",
        "\n",
        "Automatically creates tables from models (db.create_all()).\n",
        "\n",
        "Manages relationships (One-to-Many, Many-to-Many).\n",
        "\n",
        "**5. Session Handling**\n",
        "\n",
        "Provides a session object (db.session) to add, update, or delete records safely."
      ],
      "metadata": {
        "id": "Ewy58_pFkwDx"
      }
    },
    {
      "cell_type": "markdown",
      "source": [
        "# **12.  What are Flask blueprints, and how are they useful?**\n",
        "\n",
        "A Blueprint in Flask is a way to organize and structure your application into smaller, reusable components.\n",
        "\n",
        "- Think of a Blueprint as a mini-application inside your Flask app.\n",
        "\n",
        "- It can define its own routes, views, static files, templates, and error handlers.\n",
        "\n",
        "- Later, you register the Blueprint with the main Flask application.   \n",
        "\n",
        "**Blueprints are useful because they:**\n",
        "\n",
        "**1. Organize large applications**\n",
        "\n",
        "Instead of keeping all routes in app.py, you can split them into modules (e.g., users.py, products.py).\n",
        "\n",
        "**2. Encourage code reusability**\n",
        "\n",
        "You can reuse a Blueprint across multiple applications.\n",
        "\n",
        "**3. Support modular development**\n",
        "\n",
        "Teams can work on different parts of the app independently.\n",
        "\n",
        "**4. Simplify API versioning**\n",
        "\n",
        "Example: api_v1 and api_v2 can be separate Blueprints.\n",
        "\n",
        "**5. Cleaner project structure**\n",
        "\n",
        "Keeps code readable and maintainable."
      ],
      "metadata": {
        "id": "nztif9-pmDhg"
      }
    },
    {
      "cell_type": "markdown",
      "source": [
        "# **13. What is the purpose of Flask's request object?**\n",
        "\n",
        "The request object in Flask (imported from flask) is used to access all the data sent by the client in an HTTP request.\n",
        "\n",
        "**It gives information about:**\n",
        "\n",
        "- Request method (GET, POST, PUT, DELETE, etc.)\n",
        "\n",
        "- Form data (submitted via HTML forms)\n",
        "\n",
        "- Query parameters (in the URL)\n",
        "\n",
        "- JSON data (sent in API requests)\n",
        "\n",
        "- Headers, cookies, and files"
      ],
      "metadata": {
        "id": "LGMzsEASm6UK"
      }
    },
    {
      "cell_type": "markdown",
      "source": [
        "# **14. How do you create a RESTful API endpoint using Flask?**\n",
        "\n",
        "To create a RESTful API endpoint in Flask, you:\n",
        "\n",
        "- Import Flask and create an app.\n",
        "\n",
        "- Define routes (@app.route) for your resources.\n",
        "\n",
        "- Use HTTP methods (GET, POST, PUT, DELETE) to perform CRUD operations.\n",
        "\n",
        "- Return JSON responses using jsonify()."
      ],
      "metadata": {
        "id": "acVEhsBQnyi-"
      }
    },
    {
      "cell_type": "markdown",
      "source": [
        "# **15. What is the purpose of Flask's jsonify() function?**\n",
        "\n",
        "The purpose of Flask’s jsonify() function is to create a proper JSON response for APIs in a Flask application.\n",
        "\n",
        "**1. Converts Python objects to JSON**    \n",
        "It takes Python dictionaries, lists, or other serializable objects and converts them into a JSON-formatted string.\n",
        "\n"
      ],
      "metadata": {
        "id": "yfNUNYs7oDYx"
      }
    },
    {
      "cell_type": "code",
      "source": [
        "from flask import jsonify\n",
        "\n",
        "data = {\"name\": \"Alice\", \"age\": 22}\n",
        "response = jsonify(data)"
      ],
      "metadata": {
        "id": "hj-nlHdVFrW6"
      },
      "execution_count": null,
      "outputs": []
    },
    {
      "cell_type": "markdown",
      "source": [
        "**2. Sets the correct MIME type**   \n",
        "Unlike json.dumps(), jsonify() also sets the response content type to:"
      ],
      "metadata": {
        "id": "hYvMnO5gFqoR"
      }
    },
    {
      "cell_type": "code",
      "source": [
        "Content-Type: application/json"
      ],
      "metadata": {
        "id": "pFkq1oVxF2Ch"
      },
      "execution_count": null,
      "outputs": []
    },
    {
      "cell_type": "markdown",
      "source": [
        "**3. Returns a proper Response object**   \n",
        "It generates a Flask Response object, not just raw text. This allows you to add headers, status codes, etc."
      ],
      "metadata": {
        "id": "i0P6neMjF5jH"
      }
    },
    {
      "cell_type": "code",
      "source": [
        "return jsonify(data), 200   # 200 = OK status"
      ],
      "metadata": {
        "id": "ar2W5uVPGDJO"
      },
      "execution_count": null,
      "outputs": []
    },
    {
      "cell_type": "markdown",
      "source": [
        "jsonify() makes it easier and safer to return JSON data from Flask routes, ensuring the correct format and headers for API responses"
      ],
      "metadata": {
        "id": "Pn7lNjneGJmT"
      }
    },
    {
      "cell_type": "markdown",
      "source": [
        "# **16.  Explain Flask’s url_for() function?**\n",
        "\n",
        "Flask’s url_for() function is used to build URLs dynamically for your application instead of hardcoding them.\n",
        "\n",
        "**Purpose of url_for():**\n",
        "\n",
        "- It generates the correct URL for a given view function by using its function name.\n",
        "\n",
        "- This makes your app more flexible and easier to maintain — if you change a route later, you don’t need to update URLs everywhere in your code or templates."
      ],
      "metadata": {
        "id": "kfSQp4GWoV0B"
      }
    },
    {
      "cell_type": "code",
      "source": [
        "from flask import Flask, url_for\n",
        "\n",
        "app = Flask(__name__)\n",
        "\n",
        "@app.route('/')\n",
        "def home():\n",
        "    return \"Welcome to Home Page\"\n",
        "\n",
        "@app.route('/profile/<username>')\n",
        "def profile(username):\n",
        "    return f\"Profile page of {username}\"\n",
        "\n",
        "with app.test_request_context():\n",
        "    print(url_for('home'))  # Output: /\n",
        "    print(url_for('profile', username=\"Alice\"))  # Output: /profile/Alice\n"
      ],
      "metadata": {
        "id": "4cGCD27GGvzz"
      },
      "execution_count": null,
      "outputs": []
    },
    {
      "cell_type": "markdown",
      "source": [
        "**Key Features:**\n",
        "\n",
        "**1. Dynamic URL generation**   \n",
        "Pass parameters as keyword arguments:"
      ],
      "metadata": {
        "id": "z3HD41blGyFU"
      }
    },
    {
      "cell_type": "code",
      "source": [
        "url_for('profile', username=\"John\")\n",
        "# /profile/John"
      ],
      "metadata": {
        "id": "0rHQCTmAGx2a"
      },
      "execution_count": null,
      "outputs": []
    },
    {
      "cell_type": "markdown",
      "source": [
        "**2. Handles query strings**   \n",
        "You can add extra arguments for query parameters:"
      ],
      "metadata": {
        "id": "WsTa06ABHS5x"
      }
    },
    {
      "cell_type": "code",
      "source": [
        "url_for('profile', username=\"John\", age=25)\n",
        "# /profile/John?age=25"
      ],
      "metadata": {
        "id": "xAFeS5YXHa_o"
      },
      "execution_count": null,
      "outputs": []
    },
    {
      "cell_type": "markdown",
      "source": [
        "**3. Prevents broken links**   \n",
        "If you later change:"
      ],
      "metadata": {
        "id": "sQGVQ_6aHgPo"
      }
    },
    {
      "cell_type": "code",
      "source": [
        "@app.route('/user/<username>')\n",
        "def profile(username): ..."
      ],
      "metadata": {
        "id": "4_DHYSiHHltr"
      },
      "execution_count": null,
      "outputs": []
    },
    {
      "cell_type": "markdown",
      "source": [
        "**4. Useful in templates**   \n",
        "In Jinja2 templates:"
      ],
      "metadata": {
        "id": "HYSRwolRHlUo"
      }
    },
    {
      "cell_type": "code",
      "source": [
        "<a href=\"{{ url_for('home') }}\">Home</a>\n",
        "<a href=\"{{ url_for('profile', username='Alice') }}\">Alice's Profile</a>"
      ],
      "metadata": {
        "id": "GbSSnA9hIV_H"
      },
      "execution_count": null,
      "outputs": []
    },
    {
      "cell_type": "markdown",
      "source": [
        "url_for() generates URLs for routes based on function names, making your Flask application cleaner, more maintainable, and less error-prone."
      ],
      "metadata": {
        "id": "o5t5zQR5IWTa"
      }
    },
    {
      "cell_type": "markdown",
      "source": [
        "# **17. How does Flask handle static files (CSS, JavaScript, etc.)?**\n",
        "\n",
        "Flask serves static files from a folder named static/ by default. Any file placed inside this folder can be accessed using a URL like:"
      ],
      "metadata": {
        "id": "ZhU-ylbCocU4"
      }
    },
    {
      "cell_type": "code",
      "source": [
        "http://localhost:5000/static/<filename>"
      ],
      "metadata": {
        "id": "KZyu-651JFpm"
      },
      "execution_count": null,
      "outputs": []
    },
    {
      "cell_type": "markdown",
      "source": [
        "# **18. What is an API specification, and how does it help in building a Flask API?**\n",
        "\n",
        "An API specification is a detailed description of how an API should work. It defines:\n",
        "\n",
        "- Endpoints (routes/URLs)\n",
        "\n",
        "- HTTP methods (GET, POST, PUT, DELETE, etc.)\n",
        "\n",
        "- Request parameters (query params, path params, body data)\n",
        "\n",
        "- Response format (status codes, JSON structure, error messages)\n",
        "\n",
        "- Authentication rules (if required)\n",
        "\n",
        "Common formats include OpenAPI (Swagger), RAML, and API Blueprint.\n",
        "\n",
        "**It helps by:**\n",
        "\n",
        "1. Clear Blueprint – Acts as a contract between backend developers, frontend developers, and testers. Everyone knows what data to send and what to expect.\n",
        "\n",
        "2. Consistency – Ensures all API endpoints follow a uniform structure (naming, response format, error handling).\n",
        "\n",
        "3. Documentation – API specs (like OpenAPI/Swagger) can automatically generate interactive docs, making it easier for others to use your Flask API.\n",
        "\n",
        "4. Validation – Tools can validate requests/responses against the specification to catch errors early.\n",
        "\n",
        "5. Faster Development – Developers can design the API first (spec-driven development) and then implement endpoints in Flask accordingly"
      ],
      "metadata": {
        "id": "N7-5cZR0okRh"
      }
    },
    {
      "cell_type": "markdown",
      "source": [
        "# **19.  What are HTTP status codes, and why are they important in a Flask API?**\n",
        "\n",
        "HTTP status codes are standard 3-digit numbers returned by a web server in response to a client’s request. They indicate the result of the request — whether it was successful, caused an error, or needs further action.\n",
        "\n",
        "**Example categories:**\n",
        "\n",
        "2xx → Success (e.g., 200 OK)\n",
        "\n",
        "3xx → Redirection (e.g., 302 Found)\n",
        "\n",
        "4xx → Client errors (e.g., 404 Not Found)\n",
        "\n",
        "5xx → Server errors (e.g., 500 Internal Server Error)\n",
        "\n",
        "**They are important because they:**\n",
        "\n",
        "Communicate results clearly → Clients know if a request succeeded or failed.\n",
        "\n",
        "Help with debugging → Different codes help identify whether an error is from the client (4xx) or the server (5xx).\n",
        "\n",
        "Improve API usability → Developers using the API can handle responses correctly (e.g., retry on 500, fix request on 400).\n",
        "\n",
        "Follow REST standards → Returning proper status codes makes the API professional and consistent with HTTP rules.\n",
        "\n"
      ],
      "metadata": {
        "id": "rA2iUt_torOt"
      }
    },
    {
      "cell_type": "markdown",
      "source": [
        "# **20. How do you handle POST requests in Flask?**\n",
        "\n",
        "**In Flask, POST requests are handled by:**\n",
        "\n",
        "- Defining a route with methods=['POST'].\n",
        "\n",
        "- Accessing request data (form data, JSON, or files) using Flask’s request object.\n",
        "\n",
        "- Returning a proper response (usually JSON + status code)."
      ],
      "metadata": {
        "id": "tpB_PWV8oxKU"
      }
    },
    {
      "cell_type": "markdown",
      "source": [
        "# **21. How would you secure a Flask API?**\n",
        "\n",
        "**Some best practices include:**\n",
        "\n",
        "**1. Authentication & Authorization**\n",
        "\n",
        "Require users to prove identity before accessing resources.\n",
        "\n",
        "Methods: API keys, JWT (JSON Web Tokens), OAuth2.\n"
      ],
      "metadata": {
        "id": "xjOc6rcpo4XE"
      }
    },
    {
      "cell_type": "code",
      "source": [
        "from flask import request, jsonify\n",
        "\n",
        "def token_required(f):\n",
        "    def wrapper(*args, **kwargs):\n",
        "        token = request.headers.get(\"Authorization\")\n",
        "        if token != \"my-secret-token\":\n",
        "            return jsonify({\"error\": \"Unauthorized\"}), 401\n",
        "        return f(*args, **kwargs)\n",
        "    return wrapper"
      ],
      "metadata": {
        "id": "Qn_GcbpyOeL5"
      },
      "execution_count": null,
      "outputs": []
    },
    {
      "cell_type": "markdown",
      "source": [
        "**2. Use HTTPS (SSL/TLS)**\n",
        "\n",
        "Always serve APIs over https:// to encrypt communication and prevent data sniffing.\n",
        "\n",
        "**3. Input Validation & Sanitization**\n",
        "\n",
        "Validate all incoming data (use libraries like Marshmallow or Pydantic).\n",
        "\n",
        "Prevent SQL Injection, XSS, or command injection.\n",
        "\n",
        "**4. Rate Limiting & Throttling**\n",
        "\n",
        "Prevent abuse by limiting how many requests a client can make.\n",
        "\n",
        "Example: Flask-Limiter library."
      ],
      "metadata": {
        "id": "7-ACdhfdOk3R"
      }
    },
    {
      "cell_type": "code",
      "source": [
        "from flask_limiter import Limiter\n",
        "limiter = Limiter(get_remote_address, app=app)\n",
        "\n",
        "@app.route(\"/login\")\n",
        "@limiter.limit(\"5 per minute\")\n",
        "def login():\n",
        "    return \"Login attempt\"\n"
      ],
      "metadata": {
        "id": "kkoqhgXrOhdd"
      },
      "execution_count": null,
      "outputs": []
    },
    {
      "cell_type": "markdown",
      "source": [
        "**5. Error Handling & Response Codes**\n",
        "\n",
        "Never expose sensitive stack traces in production.\n",
        "\n",
        "Return proper status codes like 401 Unauthorized, 403 Forbidden, 500 Internal Server Error.\n",
        "\n",
        "**6. CORS (Cross-Origin Resource Sharing)**\n",
        "\n",
        "Use Flask-CORS to control which domains can access your API."
      ],
      "metadata": {
        "id": "RFMoWtHROzCN"
      }
    },
    {
      "cell_type": "code",
      "source": [
        "from flask_cors import CORS\n",
        "CORS(app, resources={r\"/api/*\": {\"origins\": \"https://my-frontend.com\"}})\n"
      ],
      "metadata": {
        "id": "LB9thT-1PBBw"
      },
      "execution_count": null,
      "outputs": []
    },
    {
      "cell_type": "markdown",
      "source": [
        "**7. Secure Configuration**\n",
        "\n",
        "Keep secret keys and database credentials in environment variables, not in code.\n",
        "\n",
        "Disable DEBUG=True in production."
      ],
      "metadata": {
        "id": "GWJh_nuvPCko"
      }
    },
    {
      "cell_type": "markdown",
      "source": [
        "# **22. What is the significance of the Flask-RESTful extension?**\n",
        "\n",
        "**It is significant because it:**\n",
        "\n",
        "**1. Organizes API endpoints better**\n",
        "\n",
        "- Uses Resource classes instead of plain functions.\n",
        "\n",
        "- Each class represents an API resource with methods like get(), post(), put(), delete().\n",
        "\n",
        "**2. Reduces boilerplate code**\n",
        "\n",
        "- Handles routing automatically with Api.add_resource().\n",
        "\n",
        "**3. Supports Request Parsing**\n",
        "\n",
        "- reqparse helps validate and extract request arguments (query params, form data, JSON).\n",
        "\n",
        "**4. Automatic JSON Responses**\n",
        "\n",
        "- Converts Python dictionaries into JSON with correct headers.\n",
        "\n",
        "**5. Cleaner & Maintainable Code**\n",
        "\n",
        "- Separates business logic from route definitions, making large APIs easier to manage."
      ],
      "metadata": {
        "id": "vCFL41T5o8oF"
      }
    },
    {
      "cell_type": "markdown",
      "source": [
        "# **23. What is the role of Flask’s session object?**\n",
        "\n",
        "Flask’s session object is a dictionary-like object that allows you to store data for a user across multiple requests.   \n",
        "It keeps track of user-specific information (like login status, preferences, or shopping cart items) between requests.\n",
        "\n",
        "- Flask uses secure cookies (signed with the app’s SECRET_KEY) to store session data on the client’s browser.\n",
        "\n",
        "- Since the data is cryptographically signed, users cannot modify it without detection.\n",
        "\n",
        "- On each request, Flask loads session data and makes it available via the session object."
      ],
      "metadata": {
        "id": "nvHNVKG-pBkI"
      }
    },
    {
      "cell_type": "markdown",
      "source": [
        "# **PRACTICAL QUESTIONS**"
      ],
      "metadata": {
        "id": "xXO0hOTppKLZ"
      }
    },
    {
      "cell_type": "markdown",
      "source": [
        "**1.  How do you create a basic Flask application?**"
      ],
      "metadata": {
        "id": "JORN6R59Rf4V"
      }
    },
    {
      "cell_type": "code",
      "source": [
        "from flask import Flask\n",
        "\n",
        "app = Flask(__name__)\n",
        "\n",
        "@app.route(\"/\")\n",
        "def home():\n",
        "    return \"Hello, Flask!\"\n",
        "\n",
        "if __name__ == \"__main__\":\n",
        "    app.run(debug=True)\n"
      ],
      "metadata": {
        "id": "vgUWbCyOTMsr"
      },
      "execution_count": null,
      "outputs": []
    },
    {
      "cell_type": "markdown",
      "source": [
        "::**2. How do you serve static files like images or CSS in Flask?**"
      ],
      "metadata": {
        "id": "5O9Rd9CWS_NW"
      }
    },
    {
      "cell_type": "code",
      "source": [
        "#Create a static/ folder in your Flask project structure:\n",
        "# my_flask_app/\n",
        "# ├── app.py\n",
        "# ├── static/\n",
        "# │   ├── style.css\n",
        "# │   ├── script.js\n",
        "# │   └── images/\n",
        "# │       └── logo.png\n",
        "# └── templates/\n",
        "#     └── index.html"
      ],
      "metadata": {
        "id": "tlQf9D4HTEEs"
      },
      "execution_count": 2,
      "outputs": []
    },
    {
      "cell_type": "code",
      "source": [
        "from flask import Flask, render_template\n",
        "\n",
        "app = Flask(__name__)\n",
        "\n",
        "@app.route('/')\n",
        "def home():\n",
        "    return render_template('index.html')\n",
        "\n",
        "if __name__ == '__main__':\n",
        "    app.run(debug=True)\n"
      ],
      "metadata": {
        "id": "gmR33V6tQhxg"
      },
      "execution_count": null,
      "outputs": []
    },
    {
      "cell_type": "code",
      "source": [
        "<!DOCTYPE html>\n",
        "<html>\n",
        "<head>\n",
        "    <title>Static Files in Flask</title>\n",
        "    <!-- Linking CSS -->\n",
        "    <link rel=\"stylesheet\" href=\"{{ url_for('static', filename='style.css') }}\">\n",
        "</head>\n",
        "<body>\n",
        "    <h1>Welcome to Flask!</h1>\n",
        "    <!-- Displaying an image -->\n",
        "    <img src=\"{{ url_for('static', filename='images/logo.png') }}\" alt=\"Logo\">\n",
        "</body>\n",
        "</html>\n"
      ],
      "metadata": {
        "id": "ZHTuDZlqRDg-"
      },
      "execution_count": null,
      "outputs": []
    },
    {
      "cell_type": "markdown",
      "source": [
        "**3. How do you define different routes with different HTTP methods in Flask?**"
      ],
      "metadata": {
        "id": "Ft5JnpDmTEsx"
      }
    },
    {
      "cell_type": "code",
      "source": [
        "from flask import Flask, request\n",
        "\n",
        "app = Flask(__name__)\n",
        "\n",
        "# Route for GET request\n",
        "@app.route('/get_example', methods=['GET'])\n",
        "def get_example():\n",
        "    return \"This is a GET request\"\n",
        "\n",
        "# Route for POST request\n",
        "@app.route('/post_example', methods=['POST'])\n",
        "def post_example():\n",
        "    data = request.form.get('name')  # reading form data\n",
        "    return f\"Hello, {data}! (from POST request)\"\n",
        "\n",
        "# Route handling both GET and POST\n",
        "@app.route('/both_example', methods=['GET', 'POST'])\n",
        "def both_example():\n",
        "    if request.method == 'GET':\n",
        "        return \"You sent a GET request\"\n",
        "    elif request.method == 'POST':\n",
        "        return \"You sent a POST request\"\n",
        "\n",
        "if __name__ == '__main__':\n",
        "    app.run(debug=True)\n"
      ],
      "metadata": {
        "id": "mI2WMqADS5fg"
      },
      "execution_count": null,
      "outputs": []
    },
    {
      "cell_type": "markdown",
      "source": [
        "**4. How do you render HTML templates in Flask?**"
      ],
      "metadata": {
        "id": "Qa48lrhzTL5-"
      }
    },
    {
      "cell_type": "code",
      "source": [
        "from flask import Flask, render_template\n",
        "\n",
        "app = Flask(__name__)\n",
        "\n",
        "@app.route('/')\n",
        "def home():\n",
        "    # Render index.html template\n",
        "    return render_template('index.html', name=\"Maulshree\")\n",
        "\n",
        "if __name__ == '__main__':\n",
        "    app.run(debug=True)\n"
      ],
      "metadata": {
        "id": "T7TAC4HtS6hX"
      },
      "execution_count": null,
      "outputs": []
    },
    {
      "cell_type": "code",
      "source": [
        "<!DOCTYPE html>\n",
        "<html>\n",
        "<head>\n",
        "    <title>Flask Template Example</title>\n",
        "</head>\n",
        "<body>\n",
        "    <h1>Hello, {{ name }}!</h1>\n",
        "    <p>This HTML page is rendered using Flask's render_template.</p>\n",
        "</body>\n",
        "</html>\n"
      ],
      "metadata": {
        "id": "_I4h12fRRY5r"
      },
      "execution_count": null,
      "outputs": []
    },
    {
      "cell_type": "markdown",
      "source": [
        "**5. How can you generate URLs for routes in Flask using url_for?**"
      ],
      "metadata": {
        "id": "HKzOlRRbTSm7"
      }
    },
    {
      "cell_type": "code",
      "source": [
        "from flask import Flask, url_for, redirect\n",
        "\n",
        "app = Flask(__name__)\n",
        "\n",
        "@app.route('/')\n",
        "def home():\n",
        "    return \"Welcome to Home Page\"\n",
        "\n",
        "@app.route('/about')\n",
        "def about():\n",
        "    return \"This is the About Page\"\n",
        "\n",
        "@app.route('/redirect_to_about')\n",
        "def redirect_to_about():\n",
        "    # Generate URL for 'about' route\n",
        "    about_url = url_for('about')\n",
        "    return redirect(about_url)\n",
        "\n",
        "if __name__ == '__main__':\n",
        "    app.run(debug=True)\n"
      ],
      "metadata": {
        "id": "JNvEzIiDTSNj"
      },
      "execution_count": null,
      "outputs": []
    },
    {
      "cell_type": "code",
      "source": [
        "@app.route('/user/<username>')\n",
        "def profile(username):\n",
        "    return f\"User: {username}\"\n",
        "\n",
        "@app.route('/get_profile')\n",
        "def get_profile():\n",
        "    # Generates URL: /user/Maulshree\n",
        "    return url_for('profile', username='Maulshree')\n"
      ],
      "metadata": {
        "id": "93YNwJAjRn4B"
      },
      "execution_count": null,
      "outputs": []
    },
    {
      "cell_type": "markdown",
      "source": [
        "**6.  How do you handle forms in Flask?**"
      ],
      "metadata": {
        "id": "dyUMJCBkTbuN"
      }
    },
    {
      "cell_type": "code",
      "source": [
        "from flask import Flask, render_template, request\n",
        "\n",
        "app = Flask(__name__)\n",
        "\n",
        "@app.route('/form', methods=['GET', 'POST'])\n",
        "def handle_form():\n",
        "    if request.method == 'POST':\n",
        "        # Get form data\n",
        "        username = request.form['username']\n",
        "        email = request.form['email']\n",
        "        return f\"Hello {username}, your email is {email}\"\n",
        "    return render_template('form.html')\n",
        "\n",
        "if __name__ == '__main__':\n",
        "    app.run(debug=True)\n"
      ],
      "metadata": {
        "id": "T831M-ncTbWd"
      },
      "execution_count": null,
      "outputs": []
    },
    {
      "cell_type": "code",
      "source": [
        "<!DOCTYPE html>\n",
        "<html>\n",
        "<head>\n",
        "    <title>Flask Form Example</title>\n",
        "</head>\n",
        "<body>\n",
        "    <h2>Enter your details</h2>\n",
        "    <form method=\"POST\" action=\"/form\">\n",
        "        <label>Username:</label>\n",
        "        <input type=\"text\" name=\"username\" required><br><br>\n",
        "\n",
        "        <label>Email:</label>\n",
        "        <input type=\"email\" name=\"email\" required><br><br>\n",
        "\n",
        "        <input type=\"submit\" value=\"Submit\">\n",
        "    </form>\n",
        "</body>\n",
        "</html>\n"
      ],
      "metadata": {
        "id": "8bS7ZjoYSGEO"
      },
      "execution_count": null,
      "outputs": []
    },
    {
      "cell_type": "markdown",
      "source": [
        "**7. How can you validate form data in Flask?**\n",
        "\n",
        "There are two common ways to validate form data in Flask:\n",
        "\n",
        "1. Manual validation using request.form\n",
        "\n",
        "2. Using Flask-WTF"
      ],
      "metadata": {
        "id": "UpuRNQfFTguH"
      }
    },
    {
      "cell_type": "code",
      "source": [
        "#Manual validation using request.form\n",
        "from flask import Flask, render_template, request\n",
        "\n",
        "app = Flask(__name__)\n",
        "\n",
        "@app.route('/register', methods=['GET', 'POST'])\n",
        "def register():\n",
        "    error = None\n",
        "    if request.method == 'POST':\n",
        "        username = request.form.get('username')\n",
        "        email = request.form.get('email')\n",
        "\n",
        "        # Simple validation\n",
        "        if not username or not email:\n",
        "            error = \"All fields are required!\"\n",
        "        elif \"@\" not in email:\n",
        "            error = \"Invalid email address!\"\n",
        "        else:\n",
        "            return f\"Welcome {username}, registered with {email}\"\n",
        "\n",
        "    return render_template('register.html', error=error)\n",
        "\n",
        "if __name__ == '__main__':\n",
        "    app.run(debug=True)\n"
      ],
      "metadata": {
        "id": "4DbeTUDpTmfG"
      },
      "execution_count": null,
      "outputs": []
    },
    {
      "cell_type": "code",
      "source": [
        "<!DOCTYPE html>\n",
        "<html>\n",
        "<head>\n",
        "    <title>Register</title>\n",
        "</head>\n",
        "<body>\n",
        "    <h2>Registration Form</h2>\n",
        "    {% if error %}\n",
        "        <p style=\"color:red;\">{{ error }}</p>\n",
        "    {% endif %}\n",
        "    <form method=\"POST\">\n",
        "        <label>Username:</label>\n",
        "        <input type=\"text\" name=\"username\"><br><br>\n",
        "\n",
        "        <label>Email:</label>\n",
        "        <input type=\"text\" name=\"email\"><br><br>\n",
        "\n",
        "        <input type=\"submit\" value=\"Register\">\n",
        "    </form>\n",
        "</body>\n",
        "</html>\n"
      ],
      "metadata": {
        "id": "11d5VhYITKQV"
      },
      "execution_count": null,
      "outputs": []
    },
    {
      "cell_type": "code",
      "source": [
        "#Using Flask-WTF\n",
        "\n",
        "pip install flask-wtf"
      ],
      "metadata": {
        "id": "38JCcOeVTUQE"
      },
      "execution_count": null,
      "outputs": []
    },
    {
      "cell_type": "code",
      "source": [
        "from flask import Flask, render_template\n",
        "from flask_wtf import FlaskForm\n",
        "from wtforms import StringField, SubmitField\n",
        "from wtforms.validators import DataRequired, Email\n",
        "\n",
        "app = Flask(__name__)\n",
        "app.secret_key = \"secretkey123\"  # Required for CSRF protection\n",
        "\n",
        "# Define Form\n",
        "class RegistrationForm(FlaskForm):\n",
        "    username = StringField(\"Username\", validators=[DataRequired()])\n",
        "    email = StringField(\"Email\", validators=[DataRequired(), Email()])\n",
        "    submit = SubmitField(\"Register\")\n",
        "\n",
        "@app.route('/register', methods=['GET', 'POST'])\n",
        "def register():\n",
        "    form = RegistrationForm()\n",
        "    if form.validate_on_submit():  # Auto-validation\n",
        "        return f\"Welcome {form.username.data}, registered with {form.email.data}\"\n",
        "    return render_template('register_wtf.html', form=form)\n",
        "\n",
        "if __name__ == '__main__':\n",
        "    app.run(debug=True)\n"
      ],
      "metadata": {
        "id": "AY7xIPMgTkpk"
      },
      "execution_count": null,
      "outputs": []
    },
    {
      "cell_type": "code",
      "source": [
        "<!DOCTYPE html>\n",
        "<html>\n",
        "<head>\n",
        "    <title>Flask-WTF Form</title>\n",
        "</head>\n",
        "<body>\n",
        "    <h2>Register</h2>\n",
        "    <form method=\"POST\">\n",
        "        {{ form.hidden_tag() }} <!-- CSRF Token -->\n",
        "        {{ form.username.label }} {{ form.username }} <br><br>\n",
        "        {{ form.email.label }} {{ form.email }} <br><br>\n",
        "        {{ form.submit }}\n",
        "    </form>\n",
        "\n",
        "    {% for field, errors in form.errors.items() %}\n",
        "        {% for error in errors %}\n",
        "            <p style=\"color:red;\">Error in {{ field }}: {{ error }}</p>\n",
        "        {% endfor %}\n",
        "    {% endfor %}\n",
        "</body>\n",
        "</html>\n"
      ],
      "metadata": {
        "id": "9NqP2OiwToav"
      },
      "execution_count": null,
      "outputs": []
    },
    {
      "cell_type": "markdown",
      "source": [
        "**8.  How do you manage sessions in Flask?**\n",
        "\n",
        "In Flask, sessions are used to store information about a user across multiple requests (like login state, preferences, etc.). Flask stores session data on the server side (signed with a secret key)."
      ],
      "metadata": {
        "id": "VVWJp4h5TmyE"
      }
    },
    {
      "cell_type": "code",
      "source": [
        "from flask import Flask, session, redirect, url_for, request\n",
        "\n",
        "app = Flask(__name__)\n",
        "app.secret_key = \"mysecretkey123\"  # Required for signing session cookies\n",
        "\n",
        "@app.route('/')\n",
        "def home():\n",
        "    if 'username' in session:\n",
        "        return f\"Welcome back, {session['username']}!\"\n",
        "    return \"You are not logged in. <a href='/login'>Login here</a>\"\n",
        "\n",
        "@app.route('/login', methods=['GET', 'POST'])\n",
        "def login():\n",
        "    if request.method == 'POST':\n",
        "        session['username'] = request.form['username']  # Save data in session\n",
        "        return redirect(url_for('home'))\n",
        "    return '''\n",
        "        <form method=\"POST\">\n",
        "            <input type=\"text\" name=\"username\" placeholder=\"Enter username\">\n",
        "            <input type=\"submit\" value=\"Login\">\n",
        "        </form>\n",
        "    '''\n",
        "\n",
        "@app.route('/logout')\n",
        "def logout():\n",
        "    session.pop('username', None)  # Remove data from session\n",
        "    return redirect(url_for('home'))\n",
        "\n",
        "if __name__ == '__main__':\n",
        "    app.run(debug=True)\n"
      ],
      "metadata": {
        "id": "Pc9GF-IdTrGN"
      },
      "execution_count": null,
      "outputs": []
    },
    {
      "cell_type": "markdown",
      "source": [
        "**9.  How do you redirect to a different route in Flask?**\n",
        "\n",
        "Flask provides the redirect() function (to send users to another route) and url_for() (to generate the route URL dynamically)."
      ],
      "metadata": {
        "id": "y8pcw6B9Trc3"
      }
    },
    {
      "cell_type": "code",
      "source": [
        "from flask import Flask, redirect, url_for\n",
        "\n",
        "app = Flask(__name__)\n",
        "\n",
        "@app.route('/')\n",
        "def home():\n",
        "    return \"Welcome to the Home Page! <a href='/go-to-about'>Go to About</a>\"\n",
        "\n",
        "@app.route('/about')\n",
        "def about():\n",
        "    return \"This is the About Page\"\n",
        "\n",
        "@app.route('/go-to-about')\n",
        "def go_to_about():\n",
        "    # Redirecting to about page\n",
        "    return redirect(url_for('about'))\n",
        "\n",
        "@app.route('/user/<name>')\n",
        "def user(name):\n",
        "    return f\"Hello, {name}!\"\n",
        "\n",
        "@app.route('/go-to-user')\n",
        "def go_to_user():\n",
        "    # Redirect to /user/Maulshree\n",
        "    return redirect(url_for('user', name='Maulshree'))\n",
        "\n",
        "if __name__ == '__main__':\n",
        "    app.run(debug=True)\n"
      ],
      "metadata": {
        "id": "c-3p6Kd7TzqD"
      },
      "execution_count": null,
      "outputs": []
    },
    {
      "cell_type": "markdown",
      "source": [
        "**10. How do you handle errors in Flask (e.g., 404)?**"
      ],
      "metadata": {
        "id": "mKy7TJjrTz9N"
      }
    },
    {
      "cell_type": "code",
      "source": [
        "#Handling 404 Error\n",
        "from flask import Flask, render_template\n",
        "\n",
        "app = Flask(__name__)\n",
        "\n",
        "# Normal route\n",
        "@app.route('/')\n",
        "def home():\n",
        "    return \"Welcome to the Homepage!\"\n",
        "\n",
        "# Handle 404 error\n",
        "@app.errorhandler(404)\n",
        "def page_not_found(e):\n",
        "    return render_template(\"404.html\"), 404   # custom HTML page\n",
        "\n",
        "if __name__ == '__main__':\n",
        "    app.run(debug=True)\n"
      ],
      "metadata": {
        "id": "DVSif_9VT5CV"
      },
      "execution_count": null,
      "outputs": []
    },
    {
      "cell_type": "code",
      "source": [
        "# 404.html (template)\n",
        "\n",
        "<!DOCTYPE html>\n",
        "<html>\n",
        "<head>\n",
        "    <title>Page Not Found</title>\n",
        "</head>\n",
        "<body>\n",
        "    <h1>Oops! 404 Error</h1>\n",
        "    <p>The page you’re looking for does not exist.</p>\n",
        "    <a href=\"/\">Go back to Home</a>\n",
        "</body>\n",
        "</html>\n"
      ],
      "metadata": {
        "id": "ZpcihPUxUgsR"
      },
      "execution_count": null,
      "outputs": []
    },
    {
      "cell_type": "markdown",
      "source": [
        "**11.  How do you structure a Flask app using Blueprints?**"
      ],
      "metadata": {
        "id": "e668SbKeT5Zl"
      }
    },
    {
      "cell_type": "code",
      "source": [
        "#Step 1: Create main Blueprint (main/routes.py)\n",
        "from flask import Blueprint, render_template\n",
        "\n",
        "# Define Blueprint\n",
        "main = Blueprint('main', __name__)\n",
        "\n",
        "@main.route('/')\n",
        "def home():\n",
        "    return render_template('home.html')\n"
      ],
      "metadata": {
        "id": "RGe1In9yT-8J"
      },
      "execution_count": null,
      "outputs": []
    },
    {
      "cell_type": "code",
      "source": [
        "from .routes import main"
      ],
      "metadata": {
        "id": "TEna002MV9i6"
      },
      "execution_count": null,
      "outputs": []
    },
    {
      "cell_type": "code",
      "source": [
        "# Step 2: Create auth Blueprint (auth/routes.py)\n",
        "from flask import Blueprint, render_template\n",
        "\n",
        "auth = Blueprint('auth', __name__)\n",
        "\n",
        "@auth.route('/login')\n",
        "def login():\n",
        "    return render_template('login.html')\n"
      ],
      "metadata": {
        "id": "oHj8jD2IWCkn"
      },
      "execution_count": null,
      "outputs": []
    },
    {
      "cell_type": "code",
      "source": [
        "from .routes import auth\n"
      ],
      "metadata": {
        "id": "dpfi8iZPWIRk"
      },
      "execution_count": null,
      "outputs": []
    },
    {
      "cell_type": "code",
      "source": [
        "# Step 3: Register Blueprints in app.py\n",
        "from flask import Flask\n",
        "\n",
        "# Import blueprints\n",
        "from main import main\n",
        "from auth import auth\n",
        "\n",
        "def create_app():\n",
        "    app = Flask(__name__)\n",
        "\n",
        "    # Register blueprints\n",
        "    app.register_blueprint(main)\n",
        "    app.register_blueprint(auth, url_prefix=\"/auth\")  # all routes under /auth\n",
        "\n",
        "    return app\n",
        "\n",
        "if __name__ == '__main__':\n",
        "    app = create_app()\n",
        "    app.run(debug=True)\n"
      ],
      "metadata": {
        "id": "bvtxkF5UWJdn"
      },
      "execution_count": null,
      "outputs": []
    },
    {
      "cell_type": "markdown",
      "source": [
        "**12.  How do you define a custom Jinja filter in Flask?**"
      ],
      "metadata": {
        "id": "pIrpDY0wT_P4"
      }
    },
    {
      "cell_type": "code",
      "source": [
        "# Step 1: Define a Custom Filter Function\n",
        "def reverse_string(s):\n",
        "    return s[::-1]\n"
      ],
      "metadata": {
        "id": "XgYmJYu6UpMr"
      },
      "execution_count": null,
      "outputs": []
    },
    {
      "cell_type": "code",
      "source": [
        "# Step 2: Register the Filter in Flask\n",
        "#You can register filters in two ways:\n",
        "\n",
        "# Method 1: Using app.template_filter\n",
        "\n",
        "\n",
        "from flask import Flask, render_template\n",
        "\n",
        "app = Flask(__name__)\n",
        "\n",
        "# Define custom filter\n",
        "@app.template_filter('reverse')\n",
        "def reverse_string(s):\n",
        "    return s[::-1]\n",
        "\n",
        "@app.route('/')\n",
        "def home():\n",
        "    return render_template('index.html', name=\"Moli\")\n",
        "\n",
        "if __name__ == '__main__':\n",
        "    app.run(debug=True)\n"
      ],
      "metadata": {
        "id": "s4IwUuduWw-h"
      },
      "execution_count": null,
      "outputs": []
    },
    {
      "cell_type": "code",
      "source": [
        "# Method 2: Using app.jinja_env.filters\n",
        "def reverse_string(s):\n",
        "    return s[::-1]\n",
        "\n",
        "app.jinja_env.filters['reverse'] = reverse_string\n"
      ],
      "metadata": {
        "id": "ZK6AkDQTXBRj"
      },
      "execution_count": null,
      "outputs": []
    },
    {
      "cell_type": "code",
      "source": [
        "# Step 3: Use the Custom Filter in Jinja Template (index.html)\n",
        "\n",
        "<!DOCTYPE html>\n",
        "<html>\n",
        "<head>\n",
        "    <title>Custom Filter Example</title>\n",
        "</head>\n",
        "<body>\n",
        "    <h1>Original: {{ name }}</h1>\n",
        "    <h2>Reversed: {{ name|reverse }}</h2>\n",
        "</body>\n",
        "</html>\n"
      ],
      "metadata": {
        "id": "1ywvLNXEXGXX"
      },
      "execution_count": null,
      "outputs": []
    },
    {
      "cell_type": "markdown",
      "source": [
        "**13. How can you redirect with query parameters in Flask?**"
      ],
      "metadata": {
        "id": "wSWTKIQzUpjX"
      }
    },
    {
      "cell_type": "code",
      "source": [
        "from flask import Flask, redirect, url_for, request\n",
        "\n",
        "app = Flask(__name__)\n",
        "\n",
        "@app.route('/')\n",
        "def home():\n",
        "    # Redirect to /dashboard with query params\n",
        "    return redirect(url_for('dashboard', user=\"Moli\", role=\"admin\"))\n",
        "\n",
        "@app.route('/dashboard')\n",
        "def dashboard():\n",
        "    # Retrieve query params\n",
        "    user = request.args.get(\"user\")\n",
        "    role = request.args.get(\"role\")\n",
        "    return f\"Hello {user}, your role is {role}!\"\n",
        "\n",
        "if __name__ == '__main__':\n",
        "    app.run(debug=True)\n"
      ],
      "metadata": {
        "id": "4_vL957HUvUL"
      },
      "execution_count": null,
      "outputs": []
    },
    {
      "cell_type": "markdown",
      "source": [
        "**14. How do you return JSON responses in Flask?**"
      ],
      "metadata": {
        "id": "S7eHEkT-UvlH"
      }
    },
    {
      "cell_type": "code",
      "source": [
        "from flask import Flask, jsonify\n",
        "\n",
        "app = Flask(__name__)\n",
        "\n",
        "@app.route('/json')\n",
        "def json_response():\n",
        "    data = {\n",
        "        \"message\": \"Hello, Flask!\",\n",
        "        \"status\": \"success\",\n",
        "        \"items\": [1, 2, 3, 4]\n",
        "    }\n",
        "    return jsonify(data)   # Flask automatically sets Content-Type: application/json\n",
        "\n",
        "if __name__ == '__main__':\n",
        "    app.run(debug=True)\n"
      ],
      "metadata": {
        "id": "k-IB93HcU0Pe"
      },
      "execution_count": null,
      "outputs": []
    },
    {
      "cell_type": "markdown",
      "source": [
        "**15. How do you capture URL parameters in Flask?**"
      ],
      "metadata": {
        "id": "7ZbeB9ovU0po"
      }
    },
    {
      "cell_type": "code",
      "source": [
        "# 1. Capturing a single parameter\n",
        "from flask import Flask\n",
        "\n",
        "app = Flask(__name__)\n",
        "\n",
        "@app.route('/user/<username>')\n",
        "def show_user(username):\n",
        "    return f\"Hello, {username}!\"\n",
        "\n",
        "if __name__ == \"__main__\":\n",
        "    app.run(debug=True)\n"
      ],
      "metadata": {
        "id": "tv_08ZhVU5JX"
      },
      "execution_count": null,
      "outputs": []
    },
    {
      "cell_type": "code",
      "source": [
        "# 2. Capturing parameters with a type converter\n",
        "\n",
        "@app.route('/post/<int:post_id>')\n",
        "def show_post(post_id):\n",
        "    return f\"Post ID: {post_id}\"\n",
        "\n",
        "\n",
        "# 3. Capturing multiple parameters\n",
        "\n",
        "@app.route('/book/<string:author>/<int:book_id>')\n",
        "def book(author, book_id):\n",
        "    return f\"Author: {author}, Book ID: {book_id}\"\n",
        "\n",
        "# 4. Capturing query parameters (after ?)\n",
        "\n",
        "from flask import request\n",
        "\n",
        "@app.route('/search')\n",
        "def search():\n",
        "    query = request.args.get('q')  # /search?q=flask\n",
        "    return f\"Search query: {query}\"\n"
      ],
      "metadata": {
        "id": "NWTf1Q-fbZdc"
      },
      "execution_count": null,
      "outputs": []
    }
  ]
}